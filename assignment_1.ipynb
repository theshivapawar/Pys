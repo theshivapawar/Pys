{
 "cells": [
  {
   "cell_type": "code",
   "id": "initial_id",
   "metadata": {
    "collapsed": true,
    "ExecuteTime": {
     "end_time": "2025-09-09T17:56:22.053125Z",
     "start_time": "2025-09-09T17:56:22.047675Z"
    }
   },
   "source": [
    "# 1. Swap two numbers\n",
    "\n",
    "a = 1\n",
    "b = 2\n",
    "\n",
    "a = a + b\n",
    "b = a - b\n",
    "a = a - b\n",
    "\n",
    "print(a, b)"
   ],
   "outputs": [
    {
     "name": "stdout",
     "output_type": "stream",
     "text": [
      "2 1\n"
     ]
    }
   ],
   "execution_count": 4
  },
  {
   "metadata": {
    "ExecuteTime": {
     "end_time": "2025-09-09T17:57:18.200651Z",
     "start_time": "2025-09-09T17:57:18.196654Z"
    }
   },
   "cell_type": "code",
   "source": [
    "\n",
    "a = 1\n",
    "b = 2\n",
    "a, b = b, a\n",
    "print(a, b)"
   ],
   "id": "b8513afe3cce5bef",
   "outputs": [
    {
     "name": "stdout",
     "output_type": "stream",
     "text": [
      "2 1\n"
     ]
    }
   ],
   "execution_count": 8
  },
  {
   "metadata": {},
   "cell_type": "code",
   "outputs": [],
   "execution_count": null,
   "source": "",
   "id": "77925209b8ab5a25"
  },
  {
   "metadata": {
    "ExecuteTime": {
     "end_time": "2025-09-09T18:02:19.839873Z",
     "start_time": "2025-09-09T18:02:19.834846Z"
    }
   },
   "cell_type": "code",
   "source": [
    "# 2. Sum of digits of a number\n",
    "\n",
    "number = 123\n",
    "\n",
    "first_digit = number % 10\n",
    "print(first_digit)\n",
    "\n",
    "number //= 10\n",
    "\n",
    "second_digit = number % 10\n",
    "print(second_digit)\n",
    "\n",
    "number //= 10\n",
    "\n",
    "third_digit = number % 10\n",
    "print(third_digit)\n",
    "\n",
    "number //= 10\n",
    "print(number)\n",
    "\n",
    "print('Sum:', first_digit + second_digit + third_digit)"
   ],
   "id": "1421bf706f26bee3",
   "outputs": [
    {
     "name": "stdout",
     "output_type": "stream",
     "text": [
      "3\n",
      "2\n",
      "1\n",
      "0\n",
      "Sum: 6\n"
     ]
    }
   ],
   "execution_count": 11
  },
  {
   "metadata": {
    "ExecuteTime": {
     "end_time": "2025-09-09T18:04:38.792305Z",
     "start_time": "2025-09-09T18:04:31.097971Z"
    }
   },
   "cell_type": "code",
   "source": [
    "\n",
    "number = int(input('Number: '))\n",
    "\n",
    "sum = 0\n",
    "while number != 0:\n",
    "    digit = number % 10\n",
    "    sum += digit\n",
    "    number //= 10\n",
    "\n",
    "print('Sum:', sum)"
   ],
   "id": "4bf7d12f484014a9",
   "outputs": [
    {
     "name": "stdout",
     "output_type": "stream",
     "text": [
      "Sum: 15\n"
     ]
    }
   ],
   "execution_count": 13
  },
  {
   "metadata": {},
   "cell_type": "code",
   "outputs": [],
   "execution_count": null,
   "source": "",
   "id": "6b0df940d9aca5e2"
  },
  {
   "metadata": {
    "ExecuteTime": {
     "end_time": "2025-09-09T18:07:09.294898Z",
     "start_time": "2025-09-09T18:07:06.133771Z"
    }
   },
   "cell_type": "code",
   "source": [
    "# 3. Number is Even or Odd\n",
    "\n",
    "number = int(input('Number: '))\n",
    "\n",
    "if number % 2 == 0:\n",
    "    print(number, 'is Even.')\n",
    "else:\n",
    "    print(number, 'is Odd.')"
   ],
   "id": "afbe4be370ac1ec9",
   "outputs": [
    {
     "name": "stdout",
     "output_type": "stream",
     "text": [
      "0 is Even.\n"
     ]
    }
   ],
   "execution_count": 17
  },
  {
   "metadata": {},
   "cell_type": "code",
   "outputs": [],
   "execution_count": null,
   "source": "",
   "id": "4b741a8d37659ad2"
  },
  {
   "metadata": {
    "ExecuteTime": {
     "end_time": "2025-09-09T18:13:22.997920Z",
     "start_time": "2025-09-09T18:13:19.537918Z"
    }
   },
   "cell_type": "code",
   "source": [
    "# 4. Assign grades or remarks based on marks\n",
    "\n",
    "marks = int(input('Marks: '))\n",
    "\n",
    "if marks > 100 or marks <= 0:\n",
    "    print('Enter valid marks.')\n",
    "elif marks >= 76:\n",
    "    print('Distinction')\n",
    "elif marks >= 54:\n",
    "    print('Second Class')\n",
    "elif marks >= 41:\n",
    "    print('Pass')\n",
    "else:\n",
    "    print('Fail')"
   ],
   "id": "b273063fba36d3b2",
   "outputs": [
    {
     "name": "stdout",
     "output_type": "stream",
     "text": [
      "Fail\n"
     ]
    }
   ],
   "execution_count": 26
  },
  {
   "metadata": {},
   "cell_type": "code",
   "outputs": [],
   "execution_count": null,
   "source": "",
   "id": "d3cc6d4da022618f"
  },
  {
   "metadata": {
    "ExecuteTime": {
     "end_time": "2025-09-09T18:16:07.821532Z",
     "start_time": "2025-09-09T18:16:05.247480Z"
    }
   },
   "cell_type": "code",
   "source": [
    "# 5. Factorial of a number\n",
    "\n",
    "number = int(input('Number:'))\n",
    "\n",
    "factorial = 1\n",
    "for i in range(2, number + 1):\n",
    "    factorial *= i\n",
    "\n",
    "print(f'Factorial of {number} is {factorial}.')"
   ],
   "id": "bbe340cad934b8ca",
   "outputs": [
    {
     "name": "stdout",
     "output_type": "stream",
     "text": [
      "Factorial of 0 is 1.\n"
     ]
    }
   ],
   "execution_count": 30
  },
  {
   "metadata": {
    "ExecuteTime": {
     "end_time": "2025-09-09T18:14:46.303810Z",
     "start_time": "2025-09-09T18:14:46.299258Z"
    }
   },
   "cell_type": "code",
   "source": "",
   "id": "49017f3c06984295",
   "outputs": [],
   "execution_count": null
  },
  {
   "metadata": {
    "ExecuteTime": {
     "end_time": "2025-09-09T18:56:40.644625Z",
     "start_time": "2025-09-09T18:56:37.321512Z"
    }
   },
   "cell_type": "code",
   "source": [
    "# 6. Prime\n",
    "\n",
    "number = int(input('Number: '))\n",
    "isPrime = True\n",
    "\n",
    "if number == 0 or number == 1:\n",
    "    isPrime = False\n",
    "    exit()\n",
    "\n",
    "for i in range(2, (number // 2) + 1):\n",
    "    if number % i == 0:\n",
    "        isPrime = False\n",
    "        break\n",
    "\n",
    "if isPrime:\n",
    "    print(number, 'is Prime.')\n",
    "else:\n",
    "    print(number, 'is not Prime.')"
   ],
   "id": "45e9d2aac1686642",
   "outputs": [
    {
     "name": "stdout",
     "output_type": "stream",
     "text": [
      "0 is not Prime.\n"
     ]
    }
   ],
   "execution_count": 1
  },
  {
   "metadata": {},
   "cell_type": "code",
   "outputs": [],
   "execution_count": null,
   "source": "",
   "id": "f2fa6f15630cd644"
  },
  {
   "metadata": {
    "ExecuteTime": {
     "end_time": "2025-09-09T18:31:26.927731Z",
     "start_time": "2025-09-09T18:31:26.923193Z"
    }
   },
   "cell_type": "code",
   "source": [
    "# 7. Reverse a list\n",
    "\n",
    "numbers = [1, 2, 3, 4, 5]\n",
    "numbers.reverse()\n",
    "print(numbers)"
   ],
   "id": "4f492628272bcccf",
   "outputs": [
    {
     "name": "stdout",
     "output_type": "stream",
     "text": [
      "[5, 4, 3, 2, 1]\n"
     ]
    }
   ],
   "execution_count": 2
  },
  {
   "metadata": {
    "ExecuteTime": {
     "end_time": "2025-09-09T18:35:54.789965Z",
     "start_time": "2025-09-09T18:35:54.786095Z"
    }
   },
   "cell_type": "code",
   "source": [
    "\n",
    "numbers = [1, 2, 3, 4, 5]\n",
    "reversedNumbers = []\n",
    "\n",
    "for i in range(-1, -len(numbers) - 1, -1):\n",
    "    reversedNumbers.append(numbers[i])\n",
    "\n",
    "print(reversedNumbers)"
   ],
   "id": "1baa9a5b8921f3f5",
   "outputs": [
    {
     "name": "stdout",
     "output_type": "stream",
     "text": [
      "[5, 4, 3, 2, 1]\n"
     ]
    }
   ],
   "execution_count": 10
  },
  {
   "metadata": {
    "ExecuteTime": {
     "end_time": "2025-09-09T18:34:10.591798Z",
     "start_time": "2025-09-09T18:34:10.589828Z"
    }
   },
   "cell_type": "code",
   "source": "",
   "id": "17590bdefcacf9de",
   "outputs": [],
   "execution_count": null
  },
  {
   "metadata": {
    "ExecuteTime": {
     "end_time": "2025-09-09T18:38:46.377112Z",
     "start_time": "2025-09-09T18:38:46.372674Z"
    }
   },
   "cell_type": "code",
   "source": [
    "# 8. Add all even numbers from 1 to 100 to list\n",
    "\n",
    "evens = []\n",
    "\n",
    "for i in range(1, 101):\n",
    "    if i % 2 == 0:\n",
    "        evens.append(i)\n",
    "\n",
    "print(evens)"
   ],
   "id": "4cf9323e2159d85d",
   "outputs": [
    {
     "name": "stdout",
     "output_type": "stream",
     "text": [
      "[2, 4, 6, 8, 10, 12, 14, 16, 18, 20, 22, 24, 26, 28, 30, 32, 34, 36, 38, 40, 42, 44, 46, 48, 50, 52, 54, 56, 58, 60, 62, 64, 66, 68, 70, 72, 74, 76, 78, 80, 82, 84, 86, 88, 90, 92, 94, 96, 98, 100]\n"
     ]
    }
   ],
   "execution_count": 11
  },
  {
   "metadata": {},
   "cell_type": "code",
   "outputs": [],
   "execution_count": null,
   "source": "",
   "id": "3a8185dbe483d187"
  },
  {
   "metadata": {
    "ExecuteTime": {
     "end_time": "2025-09-09T18:40:39.215859Z",
     "start_time": "2025-09-09T18:40:39.211791Z"
    }
   },
   "cell_type": "code",
   "source": [
    "# 9. Print all odd numbers from list\n",
    "\n",
    "numbers = [1, 2, 3, 4, 5, 6, 7, 8, 9, 10]\n",
    "\n",
    "for number in numbers:\n",
    "    if number % 2 != 0:\n",
    "        print(number, end=' ')"
   ],
   "id": "1c3b45f73fb12c40",
   "outputs": [
    {
     "name": "stdout",
     "output_type": "stream",
     "text": [
      "1 3 5 7 9 "
     ]
    }
   ],
   "execution_count": 13
  },
  {
   "metadata": {},
   "cell_type": "code",
   "outputs": [],
   "execution_count": null,
   "source": "",
   "id": "3224cfc94897dced"
  },
  {
   "metadata": {
    "ExecuteTime": {
     "end_time": "2025-09-09T18:46:36.790046Z",
     "start_time": "2025-09-09T18:46:36.785316Z"
    }
   },
   "cell_type": "code",
   "source": [
    "# 10. List of prime numbers from 2 to 100\n",
    "\n",
    "primes = []\n",
    "\n",
    "for number in range(2, 101):\n",
    "    for i in range(2, (number // 2) + 1):\n",
    "        if number % i == 0:\n",
    "            break\n",
    "    else:\n",
    "        primes.append(number)\n",
    "\n",
    "print(primes)"
   ],
   "id": "b804522d42d12df",
   "outputs": [
    {
     "name": "stdout",
     "output_type": "stream",
     "text": [
      "[2, 3, 5, 7, 11, 13, 17, 19, 23, 29, 31, 37, 41, 43, 47, 53, 59, 61, 67, 71, 73, 79, 83, 89, 97]\n"
     ]
    }
   ],
   "execution_count": 19
  },
  {
   "metadata": {},
   "cell_type": "code",
   "outputs": [],
   "execution_count": null,
   "source": "",
   "id": "5490406538d9b50a"
  },
  {
   "metadata": {
    "ExecuteTime": {
     "end_time": "2025-09-09T18:49:18.083706Z",
     "start_time": "2025-09-09T18:49:18.079195Z"
    }
   },
   "cell_type": "code",
   "source": [
    "# 11. Remove duplicates from list\n",
    "\n",
    "numbers = [1, 2, 3, 1, 2, 3, 4, 2, 5]\n",
    "uniques = []\n",
    "\n",
    "for number in numbers:\n",
    "    if number not in uniques:\n",
    "        uniques.append(number)\n",
    "\n",
    "print(uniques)"
   ],
   "id": "ff37e8bb82c15ceb",
   "outputs": [
    {
     "name": "stdout",
     "output_type": "stream",
     "text": [
      "[1, 2, 3, 4, 5]\n"
     ]
    }
   ],
   "execution_count": 21
  },
  {
   "metadata": {
    "ExecuteTime": {
     "end_time": "2025-09-09T18:49:24.313361Z",
     "start_time": "2025-09-09T18:49:24.311165Z"
    }
   },
   "cell_type": "code",
   "source": "",
   "id": "146589cc82a48bf8",
   "outputs": [],
   "execution_count": null
  },
  {
   "metadata": {},
   "cell_type": "code",
   "outputs": [],
   "execution_count": null,
   "source": "# 12.",
   "id": "556dcc73a7955a85"
  },
  {
   "metadata": {},
   "cell_type": "code",
   "outputs": [],
   "execution_count": null,
   "source": "",
   "id": "cb8a6a4ecb9a8d6f"
  },
  {
   "metadata": {
    "ExecuteTime": {
     "end_time": "2025-09-09T18:57:47.571800Z",
     "start_time": "2025-09-09T18:57:47.567864Z"
    }
   },
   "cell_type": "code",
   "source": [
    "# 13. Count prime and odd numbers in tuple\n",
    "\n",
    "numbers = (1, 2, 3, 4, 5, 6, 7, 8, 9, 10)\n",
    "\n",
    "numberOfPrimes = 0\n",
    "numberOfOdds = 0\n",
    "\n",
    "for number in numbers:\n",
    "    if number % 2 != 0:\n",
    "        numberOfOdds += 1\n",
    "\n",
    "    if number == 0 or number == 1:\n",
    "        continue\n",
    "\n",
    "    for i in range(2, (number // 2) + 1):\n",
    "        if number % i == 0:\n",
    "            break\n",
    "    else:\n",
    "        numberOfPrimes += 1\n",
    "\n",
    "\n",
    "print('Number of Primes:', numberOfPrimes)\n",
    "print('Number of Odds:', numberOfOdds)"
   ],
   "id": "638bd2a45cedbfa5",
   "outputs": [
    {
     "name": "stdout",
     "output_type": "stream",
     "text": [
      "Number of Primes: 4\n",
      "Number of Odds: 5\n"
     ]
    }
   ],
   "execution_count": 4
  },
  {
   "metadata": {
    "ExecuteTime": {
     "end_time": "2025-09-09T18:53:40.981121Z",
     "start_time": "2025-09-09T18:53:40.979306Z"
    }
   },
   "cell_type": "code",
   "source": "",
   "id": "b132c27868b30f42",
   "outputs": [],
   "execution_count": null
  },
  {
   "metadata": {
    "ExecuteTime": {
     "end_time": "2025-09-09T19:10:09.942494Z",
     "start_time": "2025-09-09T19:10:06.110873Z"
    }
   },
   "cell_type": "code",
   "source": [
    "# 14. Reverse a string\n",
    "\n",
    "text = input('Text: ')\n",
    "reversedText = []\n",
    "\n",
    "for i in range(-1, -len(text) - 1, -1):\n",
    "    reversedText.append(text[i])\n",
    "\n",
    "reversedText = ''.join(reversedText)\n",
    "print(reversedText)"
   ],
   "id": "e63fe2cd4f3248f9",
   "outputs": [
    {
     "name": "stdout",
     "output_type": "stream",
     "text": [
      "olleh\n"
     ]
    }
   ],
   "execution_count": 11
  },
  {
   "metadata": {
    "ExecuteTime": {
     "end_time": "2025-09-09T19:11:46.974089Z",
     "start_time": "2025-09-09T19:11:43.695589Z"
    }
   },
   "cell_type": "code",
   "source": [
    "\n",
    "text = input('Text: ')\n",
    "reversedText = text[::-1]\n",
    "print(reversedText)"
   ],
   "id": "a12a5c4c6e4466ae",
   "outputs": [
    {
     "name": "stdout",
     "output_type": "stream",
     "text": [
      "olleh\n"
     ]
    }
   ],
   "execution_count": 12
  },
  {
   "metadata": {},
   "cell_type": "code",
   "outputs": [],
   "execution_count": null,
   "source": "",
   "id": "85580cb7058962a2"
  },
  {
   "metadata": {},
   "cell_type": "code",
   "outputs": [],
   "execution_count": null,
   "source": [
    "# 15. Pangram\n",
    "\n",
    "text = input('Text: ')\n",
    "\n",
    "if len(text) < 26:\n",
    "    print('Not Pangram')\n",
    "\n",
    "else"
   ],
   "id": "c31e4ed15ad42974"
  }
 ],
 "metadata": {
  "kernelspec": {
   "display_name": "Python 3",
   "language": "python",
   "name": "python3"
  },
  "language_info": {
   "codemirror_mode": {
    "name": "ipython",
    "version": 2
   },
   "file_extension": ".py",
   "mimetype": "text/x-python",
   "name": "python",
   "nbconvert_exporter": "python",
   "pygments_lexer": "ipython2",
   "version": "2.7.6"
  }
 },
 "nbformat": 4,
 "nbformat_minor": 5
}
